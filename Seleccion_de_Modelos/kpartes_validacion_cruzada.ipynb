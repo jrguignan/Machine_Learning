{
 "cells": [
  {
   "cell_type": "code",
   "execution_count": 1,
   "metadata": {},
   "outputs": [],
   "source": [
    "import numpy as np\n",
    "import matplotlib.pyplot as plt\n",
    "import pandas as pd\n",
    "from sklearn import preprocessing"
   ]
  },
  {
   "cell_type": "markdown",
   "metadata": {},
   "source": [
    "# K Partes Validación Cruzada"
   ]
  },
  {
   "cell_type": "code",
   "execution_count": 2,
   "metadata": {},
   "outputs": [],
   "source": [
    "# Se aplicara sobre el algoritmo de Maquinas de Soporte Vectorial - kernel gausiano\n",
    "\n",
    "#Apertura de archivo csv a un dataframe de pandas\n",
    "#revisar la ruta para tu caso particular\n",
    "ruta = \"c:\\\\Users\\\\jrgui\\\\Documents\\\\GitHub\\\\Machine_Learning\\\\Seleccion_de_Modelos\\\\datasets\\\\Social_Network_Ads.csv\"\n",
    "dataset = pd.read_csv(ruta)\n",
    "dataset.head(5)\n",
    "\n",
    "#Sacar las variables independientes\n",
    "X = dataset.iloc[:,[2,3]].values\n",
    "# Sacar la variable dependientes\n",
    "y = dataset.iloc[:,4].values\n",
    "\n",
    "#Division de Datos - entrenamiento y validacion\n",
    "#herramienta para dividir los datos\n",
    "from sklearn.model_selection import train_test_split\n",
    "#divide los datos en 20% para la validacion y se colocar una semilla para hacer la division\n",
    "X_train, X_test, y_train, y_test = train_test_split(X, y, test_size = 0.25, random_state = 0)\n",
    "\n",
    "# Escalado de Variables - Estandarizacion y Normalizacion\n",
    "#Es preferible utilizalo en algortimos que usan el calculo de distancia - pitagoras \n",
    "#Estandarizacion\n",
    "sc_X = preprocessing.StandardScaler()\n",
    "X_train = sc_X.fit_transform(X_train)\n",
    "X_test = sc_X.transform(X_test)\n",
    "\n",
    "from sklearn.svm import SVC\n",
    "#Ajuste del clasificdor con Maquinas de soporte vectorial\n",
    "clasificador = SVC(kernel=\"rbf\", random_state=0)\n",
    "clasificador.fit(X_train, y_train)\n",
    "\n",
    "#Prediccion de los resultados con el conjusto de testing\n",
    "y_pre = clasificador.predict(X_test)\n",
    "\n",
    "#Comprobacion del resultado - Matriz de confucion\n",
    "from sklearn.metrics import confusion_matrix\n",
    "cm = confusion_matrix(y_test, y_pre)"
   ]
  },
  {
   "cell_type": "code",
   "execution_count": 11,
   "metadata": {},
   "outputs": [
    {
     "name": "stdout",
     "output_type": "stream",
     "text": [
      "Precision para los distintos K\n",
      "0.8\n",
      "0.9666666666666667\n",
      "0.8\n",
      "0.9666666666666667\n",
      "0.8666666666666667\n",
      "0.8666666666666667\n",
      "0.9\n",
      "0.9333333333333333\n",
      "1.0\n",
      "0.9333333333333333\n",
      "\n",
      "\n",
      "Precision Promedio Global: 0.9033333333333333\n",
      "Desviacion Estandar: 0.06574360974438671\n"
     ]
    }
   ],
   "source": [
    "#Algoritmo de Validacion Cruzada\n",
    "\n",
    "from sklearn.model_selection import cross_val_score\n",
    "\n",
    "#Se divide en 10 partes\n",
    "precision = cross_val_score(estimator=clasificador, X=X_train, y=y_train, cv=10)\n",
    "\n",
    "print(\"Precision para los distintos K\")\n",
    "for i in range(0, len(precision)):\n",
    "    print(precision[i])\n",
    "\n",
    "print(\"\\n\")\n",
    "\n",
    "print(\"Precision Promedio Global:\", precision.mean())    \n",
    "print(\"Desviacion Estandar:\", precision.std())   \n",
    "\n",
    "\n",
    "#De la presicion de los distintos k se ve que varia un poco y el promedio \n",
    "#arroja un buen resultada, y la desviacion estandar es baja"
   ]
  }
 ],
 "metadata": {
  "kernelspec": {
   "display_name": "Python 3",
   "language": "python",
   "name": "python3"
  },
  "language_info": {
   "codemirror_mode": {
    "name": "ipython",
    "version": 3
   },
   "file_extension": ".py",
   "mimetype": "text/x-python",
   "name": "python",
   "nbconvert_exporter": "python",
   "pygments_lexer": "ipython3",
   "version": "3.11.5"
  }
 },
 "nbformat": 4,
 "nbformat_minor": 2
}
