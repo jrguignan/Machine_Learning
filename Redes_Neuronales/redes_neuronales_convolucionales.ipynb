{
 "cells": [
  {
   "cell_type": "code",
   "execution_count": 81,
   "metadata": {},
   "outputs": [],
   "source": [
    "import numpy as np\n",
    "import matplotlib.pyplot as plt\n",
    "import pandas as pd"
   ]
  },
  {
   "cell_type": "markdown",
   "metadata": {},
   "source": [
    "# Redes Nuronales Convolucionales"
   ]
  },
  {
   "cell_type": "code",
   "execution_count": 84,
   "metadata": {},
   "outputs": [],
   "source": [
    "# Construir la Red Neuronal Convolucional\n",
    "\n",
    "from keras.models import Sequential\n",
    "from keras.layers import Dense\n",
    "\n",
    "from keras.layers import Conv2D\n",
    "from keras.layers import MaxPooling2D\n",
    "from keras.layers import Flatten\n",
    "\n",
    "\n",
    "\n",
    "#Inicializar la red convolucional\n",
    "clasificador = Sequential()\n",
    "\n",
    "#Capa de convolucion\n",
    "clasificador.add(Conv2D(filters=32, kernel_size=(3, 3), \n",
    "                      input_shape = (72, 72, 3), activation =\"relu\"))\n",
    "\n",
    "#Capa maxpooling\n",
    "clasificador.add(MaxPooling2D(pool_size=(2,2)))\n",
    "\n",
    "#Capa flattening\n",
    "clasificador.add(Flatten())\n",
    "\n",
    "#capa full connection\n",
    "clasificador.add(Dense(units=128, activation=\"relu\"))\n",
    "clasificador.add(Dense(units=1, activation=\"sigmoid\"))"
   ]
  },
  {
   "cell_type": "code",
   "execution_count": 85,
   "metadata": {},
   "outputs": [
    {
     "name": "stdout",
     "output_type": "stream",
     "text": [
      "Found 8000 images belonging to 2 classes.\n",
      "Found 2000 images belonging to 2 classes.\n"
     ]
    }
   ],
   "source": [
    "#Preprocesado de imagenes\n",
    "\n",
    "\n",
    "#from keras.preprocessing.image import ImageDataGenerator\n",
    "from keras.src.legacy.preprocessing.image import ImageDataGenerator\n",
    "\n",
    "train_datagen = ImageDataGenerator(\n",
    "        rescale=1./255,\n",
    "        shear_range=0.2,\n",
    "        zoom_range=0.2,\n",
    "        horizontal_flip=True)\n",
    "\n",
    "test_datagen = ImageDataGenerator(rescale=1./255)\n",
    "\n",
    "dataset_train = train_datagen.flow_from_directory('c:\\\\Users\\\\jrgui\\\\Documents\\\\GitHub\\\\Machine_Learning\\\\Redes_Neuronales\\\\datasets\\\\training_set',\n",
    "                                                    target_size=(72, 72),\n",
    "                                                    batch_size=32,\n",
    "                                                    class_mode='binary')\n",
    "\n",
    "dataset_test = test_datagen.flow_from_directory('c:\\\\Users\\\\jrgui\\\\Documents\\\\GitHub\\\\Machine_Learning\\\\Redes_Neuronales\\\\datasets\\\\test_set',\n",
    "                                                target_size=(72, 72),\n",
    "                                                batch_size=32,\n",
    "                                                class_mode='binary')\n",
    "\n"
   ]
  },
  {
   "cell_type": "code",
   "execution_count": 86,
   "metadata": {},
   "outputs": [
    {
     "name": "stdout",
     "output_type": "stream",
     "text": [
      "Epoch 1/25\n",
      "\u001b[1m2000/2000\u001b[0m \u001b[32m━━━━━━━━━━━━━━━━━━━━\u001b[0m\u001b[37m\u001b[0m \u001b[1m57s\u001b[0m 27ms/step - accuracy: 0.6027 - loss: 0.7366 - val_accuracy: 0.7020 - val_loss: 0.5857\n",
      "Epoch 2/25\n",
      "\u001b[1m2000/2000\u001b[0m \u001b[32m━━━━━━━━━━━━━━━━━━━━\u001b[0m\u001b[37m\u001b[0m \u001b[1m55s\u001b[0m 27ms/step - accuracy: 0.6954 - loss: 0.5807 - val_accuracy: 0.7125 - val_loss: 0.5747\n",
      "Epoch 3/25\n",
      "\u001b[1m2000/2000\u001b[0m \u001b[32m━━━━━━━━━━━━━━━━━━━━\u001b[0m\u001b[37m\u001b[0m \u001b[1m55s\u001b[0m 27ms/step - accuracy: 0.7188 - loss: 0.5520 - val_accuracy: 0.7385 - val_loss: 0.5403\n",
      "Epoch 4/25\n",
      "\u001b[1m2000/2000\u001b[0m \u001b[32m━━━━━━━━━━━━━━━━━━━━\u001b[0m\u001b[37m\u001b[0m \u001b[1m55s\u001b[0m 27ms/step - accuracy: 0.7240 - loss: 0.5350 - val_accuracy: 0.7150 - val_loss: 0.5736\n",
      "Epoch 5/25\n",
      "\u001b[1m2000/2000\u001b[0m \u001b[32m━━━━━━━━━━━━━━━━━━━━\u001b[0m\u001b[37m\u001b[0m \u001b[1m55s\u001b[0m 27ms/step - accuracy: 0.7456 - loss: 0.5139 - val_accuracy: 0.7185 - val_loss: 0.5647\n",
      "Epoch 6/25\n",
      "\u001b[1m2000/2000\u001b[0m \u001b[32m━━━━━━━━━━━━━━━━━━━━\u001b[0m\u001b[37m\u001b[0m \u001b[1m55s\u001b[0m 27ms/step - accuracy: 0.7489 - loss: 0.5024 - val_accuracy: 0.7425 - val_loss: 0.5254\n",
      "Epoch 7/25\n",
      "\u001b[1m2000/2000\u001b[0m \u001b[32m━━━━━━━━━━━━━━━━━━━━\u001b[0m\u001b[37m\u001b[0m \u001b[1m55s\u001b[0m 27ms/step - accuracy: 0.7639 - loss: 0.4865 - val_accuracy: 0.7405 - val_loss: 0.5483\n",
      "Epoch 8/25\n",
      "\u001b[1m2000/2000\u001b[0m \u001b[32m━━━━━━━━━━━━━━━━━━━━\u001b[0m\u001b[37m\u001b[0m \u001b[1m55s\u001b[0m 27ms/step - accuracy: 0.7636 - loss: 0.4895 - val_accuracy: 0.7650 - val_loss: 0.5294\n",
      "Epoch 9/25\n",
      "\u001b[1m2000/2000\u001b[0m \u001b[32m━━━━━━━━━━━━━━━━━━━━\u001b[0m\u001b[37m\u001b[0m \u001b[1m55s\u001b[0m 27ms/step - accuracy: 0.7758 - loss: 0.4682 - val_accuracy: 0.7645 - val_loss: 0.5206\n",
      "Epoch 10/25\n",
      "\u001b[1m2000/2000\u001b[0m \u001b[32m━━━━━━━━━━━━━━━━━━━━\u001b[0m\u001b[37m\u001b[0m \u001b[1m55s\u001b[0m 27ms/step - accuracy: 0.7828 - loss: 0.4478 - val_accuracy: 0.7600 - val_loss: 0.5642\n",
      "Epoch 11/25\n",
      "\u001b[1m2000/2000\u001b[0m \u001b[32m━━━━━━━━━━━━━━━━━━━━\u001b[0m\u001b[37m\u001b[0m \u001b[1m55s\u001b[0m 27ms/step - accuracy: 0.7927 - loss: 0.4448 - val_accuracy: 0.7535 - val_loss: 0.5532\n",
      "Epoch 12/25\n",
      "\u001b[1m2000/2000\u001b[0m \u001b[32m━━━━━━━━━━━━━━━━━━━━\u001b[0m\u001b[37m\u001b[0m \u001b[1m56s\u001b[0m 28ms/step - accuracy: 0.7958 - loss: 0.4372 - val_accuracy: 0.7690 - val_loss: 0.5214\n",
      "Epoch 13/25\n",
      "\u001b[1m2000/2000\u001b[0m \u001b[32m━━━━━━━━━━━━━━━━━━━━\u001b[0m\u001b[37m\u001b[0m \u001b[1m55s\u001b[0m 27ms/step - accuracy: 0.7941 - loss: 0.4317 - val_accuracy: 0.7765 - val_loss: 0.5330\n",
      "Epoch 14/25\n",
      "\u001b[1m2000/2000\u001b[0m \u001b[32m━━━━━━━━━━━━━━━━━━━━\u001b[0m\u001b[37m\u001b[0m \u001b[1m55s\u001b[0m 27ms/step - accuracy: 0.8090 - loss: 0.4167 - val_accuracy: 0.7820 - val_loss: 0.5183\n",
      "Epoch 15/25\n",
      "\u001b[1m2000/2000\u001b[0m \u001b[32m━━━━━━━━━━━━━━━━━━━━\u001b[0m\u001b[37m\u001b[0m \u001b[1m55s\u001b[0m 27ms/step - accuracy: 0.8175 - loss: 0.4017 - val_accuracy: 0.7715 - val_loss: 0.5307\n",
      "Epoch 16/25\n",
      "\u001b[1m2000/2000\u001b[0m \u001b[32m━━━━━━━━━━━━━━━━━━━━\u001b[0m\u001b[37m\u001b[0m \u001b[1m55s\u001b[0m 27ms/step - accuracy: 0.8206 - loss: 0.3972 - val_accuracy: 0.7345 - val_loss: 0.6503\n",
      "Epoch 17/25\n",
      "\u001b[1m2000/2000\u001b[0m \u001b[32m━━━━━━━━━━━━━━━━━━━━\u001b[0m\u001b[37m\u001b[0m \u001b[1m56s\u001b[0m 27ms/step - accuracy: 0.8295 - loss: 0.3774 - val_accuracy: 0.7650 - val_loss: 0.5862\n",
      "Epoch 18/25\n",
      "\u001b[1m2000/2000\u001b[0m \u001b[32m━━━━━━━━━━━━━━━━━━━━\u001b[0m\u001b[37m\u001b[0m \u001b[1m56s\u001b[0m 28ms/step - accuracy: 0.8323 - loss: 0.3685 - val_accuracy: 0.7545 - val_loss: 0.6099\n",
      "Epoch 19/25\n",
      "\u001b[1m2000/2000\u001b[0m \u001b[32m━━━━━━━━━━━━━━━━━━━━\u001b[0m\u001b[37m\u001b[0m \u001b[1m56s\u001b[0m 27ms/step - accuracy: 0.8420 - loss: 0.3553 - val_accuracy: 0.7725 - val_loss: 0.5897\n",
      "Epoch 20/25\n",
      "\u001b[1m2000/2000\u001b[0m \u001b[32m━━━━━━━━━━━━━━━━━━━━\u001b[0m\u001b[37m\u001b[0m \u001b[1m56s\u001b[0m 27ms/step - accuracy: 0.8384 - loss: 0.3621 - val_accuracy: 0.7450 - val_loss: 0.6349\n",
      "Epoch 21/25\n",
      "\u001b[1m2000/2000\u001b[0m \u001b[32m━━━━━━━━━━━━━━━━━━━━\u001b[0m\u001b[37m\u001b[0m \u001b[1m56s\u001b[0m 27ms/step - accuracy: 0.8493 - loss: 0.3458 - val_accuracy: 0.7820 - val_loss: 0.5671\n",
      "Epoch 22/25\n",
      "\u001b[1m2000/2000\u001b[0m \u001b[32m━━━━━━━━━━━━━━━━━━━━\u001b[0m\u001b[37m\u001b[0m \u001b[1m57s\u001b[0m 28ms/step - accuracy: 0.8569 - loss: 0.3316 - val_accuracy: 0.7660 - val_loss: 0.6092\n",
      "Epoch 23/25\n",
      "\u001b[1m2000/2000\u001b[0m \u001b[32m━━━━━━━━━━━━━━━━━━━━\u001b[0m\u001b[37m\u001b[0m \u001b[1m56s\u001b[0m 27ms/step - accuracy: 0.8555 - loss: 0.3298 - val_accuracy: 0.7645 - val_loss: 0.6228\n",
      "Epoch 24/25\n",
      "\u001b[1m2000/2000\u001b[0m \u001b[32m━━━━━━━━━━━━━━━━━━━━\u001b[0m\u001b[37m\u001b[0m \u001b[1m56s\u001b[0m 28ms/step - accuracy: 0.8683 - loss: 0.3068 - val_accuracy: 0.7605 - val_loss: 0.6744\n",
      "Epoch 25/25\n",
      "\u001b[1m2000/2000\u001b[0m \u001b[32m━━━━━━━━━━━━━━━━━━━━\u001b[0m\u001b[37m\u001b[0m \u001b[1m56s\u001b[0m 28ms/step - accuracy: 0.8685 - loss: 0.3037 - val_accuracy: 0.7660 - val_loss: 0.6733\n"
     ]
    },
    {
     "data": {
      "text/plain": [
       "<keras.src.callbacks.history.History at 0x285ac46f110>"
      ]
     },
     "execution_count": 86,
     "metadata": {},
     "output_type": "execute_result"
    }
   ],
   "source": [
    "#Ajustar la Red Neuronal Convolucional\n",
    "\n",
    "#Compilar la red\n",
    "clasificador.compile(optimizer=\"adam\", loss=\"binary_crossentropy\", metrics=[\"accuracy\"])\n",
    "\n",
    "#Entrenamiento de la red\n",
    "clasificador.fit(dataset_train,\n",
    "                 steps_per_epoch=2000,\n",
    "                 epochs=25,\n",
    "                 validation_data=dataset_test,\n",
    "                 validation_steps=2000)"
   ]
  },
  {
   "cell_type": "markdown",
   "metadata": {},
   "source": [
    "La red se puede mejorar aún más, agregando más épocas o más steps_per_epoch, lo ideal es bajar el error(loss) lo mas posible y subir la exactitud (accuracy)"
   ]
  }
 ],
 "metadata": {
  "kernelspec": {
   "display_name": "Python 3",
   "language": "python",
   "name": "python3"
  },
  "language_info": {
   "codemirror_mode": {
    "name": "ipython",
    "version": 3
   },
   "file_extension": ".py",
   "mimetype": "text/x-python",
   "name": "python",
   "nbconvert_exporter": "python",
   "pygments_lexer": "ipython3",
   "version": "3.11.5"
  }
 },
 "nbformat": 4,
 "nbformat_minor": 2
}
